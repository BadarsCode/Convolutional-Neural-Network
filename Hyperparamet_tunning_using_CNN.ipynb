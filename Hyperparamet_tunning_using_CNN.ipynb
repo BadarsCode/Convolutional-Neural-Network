{
 "cells": [
  {
   "cell_type": "code",
   "execution_count": 1,
   "id": "ee1c9495",
   "metadata": {},
   "outputs": [],
   "source": [
    "import tensorflow as tf\n",
    "from tensorflow import keras\n",
    "from tensorflow.keras import layers\n",
    "import keras_tuner as kt"
   ]
  },
  {
   "cell_type": "code",
   "execution_count": 2,
   "id": "ebdc1603",
   "metadata": {},
   "outputs": [],
   "source": [
    "# Load Cifer-10\n",
    "(X_train, y_train), (X_test, y_test) = keras.datasets.cifar10.load_data()\n",
    "X_train, X_test= X_train/255.0, X_test/255.0"
   ]
  },
  {
   "cell_type": "code",
   "execution_count": 4,
   "id": "7b165b57-ab64-497f-822c-8e9b5a7e5176",
   "metadata": {},
   "outputs": [],
   "source": [
    "# subset for tuning (10k samples)\n",
    "X_tune= X_train[:10000]\n",
    "y_tune= y_train[:10000]"
   ]
  },
  {
   "cell_type": "code",
   "execution_count": 27,
   "id": "0768d3f7-8223-4cfc-98b0-ae6640a283a0",
   "metadata": {},
   "outputs": [],
   "source": [
    "def build_model(hp):\n",
    "    inputs = keras.Input(shape=(32,32,3))\n",
    "    x=inputs\n",
    "\n",
    "    #convolutional blocks\n",
    "    for i in range(hp.Int(\"num_conv_blocks\", 1, 3)):\n",
    "        x= layers.Conv2D(\n",
    "            filters=hp.Int(f\" filters_{i}\", 32, 128, step=32),\n",
    "            kernel_size = 3,\n",
    "            padding=\"same\",\n",
    "            activation=\"relu\")(x)\n",
    "        x=layers.MaxPooling2D()(x)\n",
    "    x = layers.Flatten()(x)\n",
    "\n",
    "    x= layers.Dense(\n",
    "        units=hp.Int(\"dense_units\", 64, 256, step=64),\n",
    "        activation='relu'\n",
    "    )(x)\n",
    "    outputs = layers.Dense(10, activation=\"softmax\")(x)\n",
    "    model = keras.Model(inputs=inputs, outputs=outputs)\n",
    "    \n",
    "    model.compile(optimizer = keras.optimizers.Adam(\n",
    "        hp.Choice(\"lr\", [1e-2, 1e-3, 1e-4])\n",
    "    ), \n",
    "    loss=\"sparse_categorical_crossentropy\",\n",
    "    metrics=[\"accuracy\"]\n",
    "    )\n",
    "    return model"
   ]
  },
  {
   "cell_type": "code",
   "execution_count": 28,
   "id": "19c923f3-7fe6-4be3-9696-f3b9d37777f3",
   "metadata": {},
   "outputs": [
    {
     "name": "stdout",
     "output_type": "stream",
     "text": [
      "Reloading Tuner from cnn_tuner_results\\cifar10_cnn2\\tuner0.json\n"
     ]
    }
   ],
   "source": [
    "tuner = kt.RandomSearch(\n",
    "    build_model,\n",
    "    objective=\"val_accuracy\", \n",
    "    max_trials=5, \n",
    "    executions_per_trial=1,\n",
    "    directory= \"cnn_tuner_results\", \n",
    "    project_name=\"cifar10_cnn2\"\n",
    ")"
   ]
  },
  {
   "cell_type": "code",
   "execution_count": 29,
   "id": "68f560fd-b53c-45fc-910a-aaf29faa71b9",
   "metadata": {},
   "outputs": [],
   "source": [
    "tuner.search(X_tune, y_tune, epochs=5, validation_split=0.2)"
   ]
  },
  {
   "cell_type": "code",
   "execution_count": 30,
   "id": "89b91767-01f8-42b4-812b-c9e838aad0aa",
   "metadata": {},
   "outputs": [
    {
     "name": "stdout",
     "output_type": "stream",
     "text": [
      "Best Hyperparameters:\n",
      "Conv Blocks: 2\n",
      "Filters in Block 1: 32\n",
      "Filters in Block 2: 32\n",
      "Dense Units: 256\n",
      "Learning Rate: 0.001\n"
     ]
    }
   ],
   "source": [
    "best_hps = tuner.get_best_hyperparameters(1)[0]\n",
    "\n",
    "print(\"Best Hyperparameters:\")\n",
    "print(f\"Conv Blocks: {best_hps.get('num_conv_blocks')}\")\n",
    "for i in range(best_hps.get('num_conv_blocks')):\n",
    "    print(f\"Filters in Block {i+1}: {best_hps.get(f' filters_{i}')}\")  # ✅ fixed key name\n",
    "print(f\"Dense Units: {best_hps.get('dense_units')}\")\n",
    "print(f\"Learning Rate: {best_hps.get('lr')}\")\n"
   ]
  },
  {
   "cell_type": "code",
   "execution_count": null,
   "id": "a74832b7-d6fb-4e9d-ae4f-7f0e5f6f10a0",
   "metadata": {},
   "outputs": [
    {
     "name": "stdout",
     "output_type": "stream",
     "text": [
      "Epoch 1/10\n",
      "\u001b[1m1407/1407\u001b[0m \u001b[32m━━━━━━━━━━━━━━━━━━━━\u001b[0m\u001b[37m\u001b[0m \u001b[1m42s\u001b[0m 28ms/step - accuracy: 0.4057 - loss: 1.6501 - val_accuracy: 0.5918 - val_loss: 1.1588\n",
      "Epoch 2/10\n",
      "\u001b[1m1407/1407\u001b[0m \u001b[32m━━━━━━━━━━━━━━━━━━━━\u001b[0m\u001b[37m\u001b[0m \u001b[1m39s\u001b[0m 28ms/step - accuracy: 0.6209 - loss: 1.0818 - val_accuracy: 0.6476 - val_loss: 1.0026\n",
      "Epoch 3/10\n",
      "\u001b[1m1407/1407\u001b[0m \u001b[32m━━━━━━━━━━━━━━━━━━━━\u001b[0m\u001b[37m\u001b[0m \u001b[1m41s\u001b[0m 28ms/step - accuracy: 0.6807 - loss: 0.9078 - val_accuracy: 0.6822 - val_loss: 0.9191\n",
      "Epoch 4/10\n",
      "\u001b[1m1407/1407\u001b[0m \u001b[32m━━━━━━━━━━━━━━━━━━━━\u001b[0m\u001b[37m\u001b[0m \u001b[1m40s\u001b[0m 29ms/step - accuracy: 0.7297 - loss: 0.7832 - val_accuracy: 0.6968 - val_loss: 0.8703\n",
      "Epoch 5/10\n",
      "\u001b[1m1407/1407\u001b[0m \u001b[32m━━━━━━━━━━━━━━━━━━━━\u001b[0m\u001b[37m\u001b[0m \u001b[1m41s\u001b[0m 29ms/step - accuracy: 0.7709 - loss: 0.6588 - val_accuracy: 0.6922 - val_loss: 0.9270\n",
      "Epoch 6/10\n",
      "\u001b[1m1407/1407\u001b[0m \u001b[32m━━━━━━━━━━━━━━━━━━━━\u001b[0m\u001b[37m\u001b[0m \u001b[1m82s\u001b[0m 30ms/step - accuracy: 0.7975 - loss: 0.5759 - val_accuracy: 0.7042 - val_loss: 0.8954\n",
      "Epoch 7/10\n",
      "\u001b[1m1407/1407\u001b[0m \u001b[32m━━━━━━━━━━━━━━━━━━━━\u001b[0m\u001b[37m\u001b[0m \u001b[1m81s\u001b[0m 29ms/step - accuracy: 0.8344 - loss: 0.4790 - val_accuracy: 0.7150 - val_loss: 0.8954\n",
      "Epoch 8/10\n",
      "\u001b[1m1407/1407\u001b[0m \u001b[32m━━━━━━━━━━━━━━━━━━━━\u001b[0m\u001b[37m\u001b[0m \u001b[1m41s\u001b[0m 29ms/step - accuracy: 0.8672 - loss: 0.3860 - val_accuracy: 0.7112 - val_loss: 0.9917\n",
      "Epoch 9/10\n",
      "\u001b[1m1314/1407\u001b[0m \u001b[32m━━━━━━━━━━━━━━━━━━\u001b[0m\u001b[37m━━\u001b[0m \u001b[1m2s\u001b[0m 28ms/step - accuracy: 0.8919 - loss: 0.3130"
     ]
    }
   ],
   "source": [
    "final_model = tuner.hypermodel.build(best_hps)\n",
    "final_model.fit(X_train, y_train, epochs= 10, validation_split=0.1)"
   ]
  },
  {
   "cell_type": "code",
   "execution_count": null,
   "id": "8b067a31-12c3-4f76-b2f6-824495c6e1b6",
   "metadata": {},
   "outputs": [],
   "source": []
  }
 ],
 "metadata": {
  "kernelspec": {
   "display_name": "Python 3 (ipykernel)",
   "language": "python",
   "name": "python3"
  },
  "language_info": {
   "codemirror_mode": {
    "name": "ipython",
    "version": 3
   },
   "file_extension": ".py",
   "mimetype": "text/x-python",
   "name": "python",
   "nbconvert_exporter": "python",
   "pygments_lexer": "ipython3",
   "version": "3.12.7"
  }
 },
 "nbformat": 4,
 "nbformat_minor": 5
}
